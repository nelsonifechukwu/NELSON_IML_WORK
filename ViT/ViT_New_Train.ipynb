{
 "cells": [
  {
   "cell_type": "code",
   "execution_count": 1,
   "metadata": {},
   "outputs": [],
   "source": [
    "# Imports\n",
    "import torch\n",
    "import torch.nn.functional as F  # Parameterless functions, like (some) activation functions\n",
    "import torchvision.datasets as datasets  # Standard datasets\n",
    "import torchvision.transforms as transforms  # Transformations we can perform on our dataset for augmentation\n",
    "import torch.nn as nn\n",
    "from torch.utils.data import DataLoader, Dataset  # Gives easier dataset managment by creating mini batches etc.\n",
    "from sklearn.model_selection import train_test_split\n",
    "\n",
    "import os\n",
    "import pandas as pd\n",
    "import numpy as np\n",
    "import matplotlib.pyplot as plt\n",
    "from sklearn.preprocessing import StandardScaler, MinMaxScaler\n",
    "from sklearn.metrics import mean_squared_error, f1_score, recall_score, precision_score, accuracy_score, confusion_matrix\n",
    "from ViT_model import VisionTransformer\n",
    "\n",
    "import sys\n",
    "import cv2\n",
    "\n",
    "import torch.optim as optim\n",
    "from torch.optim import lr_scheduler\n",
    "import torchvision\n",
    "from torchvision import datasets, models, transforms\n",
    "import time\n",
    "import copy"
   ]
  },
  {
   "cell_type": "code",
   "execution_count": 2,
   "metadata": {},
   "outputs": [
    {
     "name": "stdout",
     "output_type": "stream",
     "text": [
      "Device: mps\n"
     ]
    }
   ],
   "source": [
    "if torch.cuda.is_available():\n",
    "    device = torch.device('cuda')\n",
    "elif torch.has_mps:\n",
    "    device = torch.device('mps')\n",
    "else:\n",
    "    device = torch.device('cpu')\n",
    "\n",
    "print(\"Device: {}\".format(device))"
   ]
  },
  {
   "cell_type": "code",
   "execution_count": 3,
   "metadata": {},
   "outputs": [],
   "source": [
    "#read the data \n",
    "#algorithm to read all the files\n",
    "\n",
    "'''\n",
    "for folder in this folder:\n",
    "    read xelasensor1.csv\n",
    "    read sliplabel.csv\n",
    "    concat it in a single dataframe along axis = 0\n",
    "\n",
    "print the dataframe\n",
    "'''\n",
    "\n",
    "directory = 'train2dof'\n",
    "directory2 = '/Users/elijahnelson/Desktop/SIWES/IML/Tactile_IML/'\n",
    "\n",
    "def read_file(detect_or_pred, n = None):\n",
    "\n",
    "    #store all directories in a list\n",
    "    list_xela_allfiles = []\n",
    "    list_sliplabel_allfiles = []\n",
    "\n",
    "    for root, subdirectories, files in os.walk(directory):\n",
    "        for sdirectory in subdirectories:\n",
    "\n",
    "            #subdirectory with absolute path\n",
    "            subdirectory = '{}/{}'.format(root, sdirectory)\n",
    "\n",
    "            #read specific files in the subdirectory\n",
    "            for file in os.listdir(subdirectory):\n",
    "            \n",
    "                if not file.startswith(\".\") and file.endswith(\"sensor1.csv\"):\n",
    "                    df = pd.read_csv(f'{subdirectory}/{file}', index_col=None, header=0)\n",
    "                    \n",
    "                    if detect_or_pred ==0:\n",
    "                        list_xela_allfiles.append(df)\n",
    "                    elif detect_or_pred ==1 and n is not None:\n",
    "                        list_xela_allfiles.append(df[:-n])\n",
    "\n",
    "                if not file.startswith(\".\") and file.endswith(\"label.csv\"):\n",
    "                    df = pd.read_csv('{}/{}'.format(subdirectory, file), index_col=None, header=0)\n",
    "                    if detect_or_pred ==0:\n",
    "                        list_sliplabel_allfiles.append(df)\n",
    "                    elif detect_or_pred ==1 and n is not None: \n",
    "                        list_sliplabel_allfiles.append(df[n:])\n",
    "\n",
    "    return list_xela_allfiles, list_sliplabel_allfiles\n",
    "\n",
    "    #np.newaxis; np.zeros (3,4,4) -> \n",
    "                    \n"
   ]
  },
  {
   "cell_type": "code",
   "execution_count": 4,
   "metadata": {},
   "outputs": [],
   "source": [
    "#concat the list of xela_allfiles and sliplabel_allfiles across axis = 0\n",
    "n = 0\n",
    "# n = 5\n",
    "list_xela_allfiles, list_sliplabel_allfiles = read_file(0)\n",
    "\n",
    "#for slip prediction, comment the line above and uncomment the line below\n",
    "# list_xela_allfiles, list_sliplabel_allfiles = read_file(1, n)\n",
    "\n",
    "pd_xela_allfiles = pd.concat(list_xela_allfiles, axis=0, ignore_index=True)\n",
    "pd_sliplabel_allfiles = pd.concat(list_sliplabel_allfiles, axis=0, ignore_index=True)\n",
    "pd_sliplabel_allfiles = pd_sliplabel_allfiles['slip']\n",
    "\n",
    "#reshape the target array into (rows, 1)\n",
    "tac_label = pd_sliplabel_allfiles.values.reshape(pd_sliplabel_allfiles.shape[0], 1)\n"
   ]
  },
  {
   "cell_type": "code",
   "execution_count": 5,
   "metadata": {},
   "outputs": [
    {
     "data": {
      "text/plain": [
       "Index(['txl1_x', 'txl1_y', 'txl1_z', 'txl2_x', 'txl2_y', 'txl2_z', 'txl3_x',\n",
       "       'txl3_y', 'txl3_z', 'txl4_x', 'txl4_y', 'txl4_z', 'txl5_x', 'txl5_y',\n",
       "       'txl5_z', 'txl6_x', 'txl6_y', 'txl6_z', 'txl7_x', 'txl7_y', 'txl7_z',\n",
       "       'txl8_x', 'txl8_y', 'txl8_z', 'txl9_x', 'txl9_y', 'txl9_z', 'txl10_x',\n",
       "       'txl10_y', 'txl10_z', 'txl11_x', 'txl11_y', 'txl11_z', 'txl12_x',\n",
       "       'txl12_y', 'txl12_z', 'txl13_x', 'txl13_y', 'txl13_z', 'txl14_x',\n",
       "       'txl14_y', 'txl14_z', 'txl15_x', 'txl15_y', 'txl15_z', 'txl16_x',\n",
       "       'txl16_y', 'txl16_z'],\n",
       "      dtype='object')"
      ]
     },
     "execution_count": 5,
     "metadata": {},
     "output_type": "execute_result"
    }
   ],
   "source": [
    "# pd_sliplabel_allfiles.to_csv('labels.csv')\n",
    "pd_xela_allfiles.columns"
   ]
  },
  {
   "cell_type": "markdown",
   "metadata": {},
   "source": [
    "# RE-ARRANGEMENT OF TABULAR DATA INTO IMAGES"
   ]
  },
  {
   "cell_type": "code",
   "execution_count": 6,
   "metadata": {},
   "outputs": [],
   "source": [
    "#arrange the data by 3, 4, 4\n",
    "\n",
    "#arrange the columns by x, y, z\n",
    "col_x = []\n",
    "col_y = []\n",
    "col_z = []\n",
    "\n",
    "pd_columns = pd_xela_allfiles.columns\n",
    "for col in pd_columns:\n",
    "    if col.endswith('x'):\n",
    "        col_x.append(col)\n",
    "    \n",
    "    elif col.endswith('y'):\n",
    "        col_y.append(col)\n",
    "    \n",
    "    elif col.endswith('z'):\n",
    "        col_z.append(col)\n",
    "\n",
    "#arrange the table using the arranged columns\n",
    "pd_xela_allfiles_x = pd_xela_allfiles[col_x]\n",
    "pd_xela_allfiles_y = pd_xela_allfiles[col_y]\n",
    "pd_xela_allfiles_z = pd_xela_allfiles[col_z]\n",
    "\n",
    "\n",
    "#scale the data in the arranged columns\n",
    "#scale the data of the features\n",
    "\n",
    "sc = MinMaxScaler() #standard scaler\n",
    "sc.fit(pd_xela_allfiles_x)\n",
    "pd_xela_allfiles_x = sc.transform(pd_xela_allfiles_x)\n",
    "\n",
    "sc.fit(pd_xela_allfiles_y)\n",
    "pd_xela_allfiles_y = sc.transform(pd_xela_allfiles_y)\n",
    "\n",
    "sc.fit(pd_xela_allfiles_z)\n",
    "pd_xela_allfiles_z = sc.transform(pd_xela_allfiles_z)\n",
    "\n",
    "\n",
    "\n",
    "#reshape the arranged data per row to (4,4) AND rotate 90 degree anti-clockwise and append to a list\n",
    "pd_x = []\n",
    "pd_y = []\n",
    "pd_z = []\n",
    "\n",
    "for row in range(len(pd_xela_allfiles_x)):\n",
    "    pd_x.append(np.rot90(pd_xela_allfiles_x[row].reshape(4,4)))\n",
    "    pd_y.append(np.rot90(pd_xela_allfiles_y[row].reshape(4,4)))\n",
    "    pd_z.append(np.rot90(pd_xela_allfiles_z[row].reshape(4,4)))\n",
    "\n",
    "#add all the x, y, z in a single list\n",
    "pd_main = [pd_x, pd_y, pd_z]\n",
    "\n",
    "#arrange pd_main in a 3, 4, 4 array where its 3(4, 4) of x, y, z values\n",
    "pd_image = np.zeros( (pd_xela_allfiles.shape[0], 3, 4, 4))\n",
    "\n",
    "#per row, get (4,4) of x, y, z and assign it to pd_image to form the image\n",
    "for row in range(pd_xela_allfiles.shape[0]):\n",
    "    x_4_4 = pd_main[0][row]\n",
    "    y_4_4 = pd_main[1][row]\n",
    "    z_4_4 = pd_main[2][row]\n",
    "\n",
    "    pd_image[row][0] = x_4_4\n",
    "    pd_image[row][1] = y_4_4\n",
    "    pd_image[row][2] = z_4_4\n"
   ]
  },
  {
   "cell_type": "code",
   "execution_count": 7,
   "metadata": {},
   "outputs": [],
   "source": [
    "# up_size = 224\n",
    "# n_images = len(pd_x)\n",
    "# tac_image = np.zeros((n_images, 3, up_size, up_size), np.float32) \n",
    "# for row in range(n_images):\n",
    "\n",
    "#     #resize image to 3, up_size, up_size\n",
    "#     for channel in range(3):\n",
    "#         image_per_channel = pd_image[row][channel]\n",
    "#         tac_image[row][channel] = cv2.resize(image_per_channel.astype(np.float32), dsize=(up_size, up_size), interpolation=cv2.INTER_CUBIC)\n",
    "# pd_image = tac_image"
   ]
  },
  {
   "cell_type": "code",
   "execution_count": 8,
   "metadata": {},
   "outputs": [],
   "source": [
    "pd_label = pd_sliplabel_allfiles.values.reshape(pd_sliplabel_allfiles.shape[0], 1)"
   ]
  },
  {
   "cell_type": "code",
   "execution_count": 10,
   "metadata": {},
   "outputs": [
    {
     "name": "stdout",
     "output_type": "stream",
     "text": [
      "torch.Size([229651, 3, 4, 4])\n"
     ]
    },
    {
     "data": {
      "image/png": "[encoded data removed]",
      "text/plain": [
       "<Figure size 640x480 with 1 Axes>"
      ]
     },
     "metadata": {},
     "output_type": "display_data"
    }
   ],
   "source": [
    "print(pd_image.shape)\n",
    "plt.imshow(pd_image[0][1])\n",
    "plt.show()"
   ]
  },
  {
   "cell_type": "code",
   "execution_count": 9,
   "metadata": {},
   "outputs": [],
   "source": [
    "pd_image = torch.from_numpy(pd_image.astype(np.float32))\n",
    "pd_label = torch.from_numpy(pd_label.astype(np.float32))"
   ]
  },
  {
   "cell_type": "code",
   "execution_count": 24,
   "metadata": {},
   "outputs": [
    {
     "name": "stderr",
     "output_type": "stream",
     "text": [
      "/Users/timii/miniconda3/envs/aienv/lib/python3.10/site-packages/torchvision/transforms/functional.py:1603: UserWarning: The default value of the antialias parameter of all the resizing transforms (Resize(), RandomResizedCrop(), etc.) will change from None to True in v0.17, in order to be consistent across the PIL and Tensor backends. To suppress this warning, directly pass antialias=True (recommended, future default), antialias=None (current default, which means False for Tensors and True for PIL), or antialias=False (only works on Tensors - PIL will still use antialiasing). This also applies if you are using the inference transforms from the models weights: update the call to weights.transforms(antialias=True).\n",
      "  warnings.warn(\n"
     ]
    },
    {
     "data": {
      "text/plain": [
       "tensor([[[0.7834, 0.7834, 0.7834,  ..., 0.6412, 0.6412, 0.6412],\n",
       "         [0.7834, 0.7834, 0.7834,  ..., 0.6412, 0.6412, 0.6412],\n",
       "         [0.7834, 0.7834, 0.7834,  ..., 0.6412, 0.6412, 0.6412],\n",
       "         ...,\n",
       "         [0.7064, 0.7064, 0.7064,  ..., 0.4572, 0.4572, 0.4572],\n",
       "         [0.7064, 0.7064, 0.7064,  ..., 0.4572, 0.4572, 0.4572],\n",
       "         [0.7064, 0.7064, 0.7064,  ..., 0.4572, 0.4572, 0.4572]],\n",
       "\n",
       "        [[0.6125, 0.6125, 0.6125,  ..., 0.2897, 0.2897, 0.2897],\n",
       "         [0.6125, 0.6125, 0.6125,  ..., 0.2897, 0.2897, 0.2897],\n",
       "         [0.6125, 0.6125, 0.6125,  ..., 0.2897, 0.2897, 0.2897],\n",
       "         ...,\n",
       "         [0.7159, 0.7159, 0.7159,  ..., 0.2103, 0.2103, 0.2103],\n",
       "         [0.7159, 0.7159, 0.7159,  ..., 0.2103, 0.2103, 0.2103],\n",
       "         [0.7159, 0.7159, 0.7159,  ..., 0.2103, 0.2103, 0.2103]],\n",
       "\n",
       "        [[0.2512, 0.2512, 0.2512,  ..., 0.5122, 0.5122, 0.5122],\n",
       "         [0.2512, 0.2512, 0.2512,  ..., 0.5122, 0.5122, 0.5122],\n",
       "         [0.2512, 0.2512, 0.2512,  ..., 0.5122, 0.5122, 0.5122],\n",
       "         ...,\n",
       "         [0.1531, 0.1531, 0.1531,  ..., 0.2796, 0.2796, 0.2796],\n",
       "         [0.1531, 0.1531, 0.1531,  ..., 0.2796, 0.2796, 0.2796],\n",
       "         [0.1531, 0.1531, 0.1531,  ..., 0.2796, 0.2796, 0.2796]]])"
      ]
     },
     "execution_count": 24,
     "metadata": {},
     "output_type": "execute_result"
    }
   ],
   "source": [
    "image_transform = transforms.Compose([\n",
    "    transforms.Resize((224,224))\n",
    "])"
   ]
  },
  {
   "cell_type": "code",
   "execution_count": 13,
   "metadata": {},
   "outputs": [],
   "source": [
    "pd_image_train, pd_image_test, pd_label_train, pd_label_test = train_test_split(pd_image, pd_label, test_size=0.1, shuffle=True)\n",
    "\n",
    "#split into train and validation\n",
    "pd_image_train, pd_image_valid, pd_label_train, pd_label_valid = train_test_split(pd_image_train, pd_label_train, test_size=0.3, shuffle = True)"
   ]
  },
  {
   "cell_type": "code",
   "execution_count": 14,
   "metadata": {},
   "outputs": [
    {
     "data": {
      "text/plain": [
       "(torch.Size([144679, 3, 4, 4]), torch.Size([144679, 1]))"
      ]
     },
     "execution_count": 14,
     "metadata": {},
     "output_type": "execute_result"
    }
   ],
   "source": [
    "pd_image_train.shape, pd_label_train.shape"
   ]
  },
  {
   "cell_type": "code",
   "execution_count": 15,
   "metadata": {},
   "outputs": [],
   "source": [
    "class seq_dataset(Dataset):\n",
    "    def __init__(self, X, y):\n",
    "        self.X = X\n",
    "        self.y = y\n",
    "    def __len__(self):\n",
    "        return self.X.__len__()\n",
    "    def __getitem__(self, index):\n",
    "        return self.X[index].numpy(), self.y[index]"
   ]
  },
  {
   "cell_type": "code",
   "execution_count": 16,
   "metadata": {},
   "outputs": [],
   "source": [
    "train_dataset = seq_dataset(pd_image_train, pd_label_train)\n",
    "valid_dataset = seq_dataset(pd_image_valid, pd_label_valid)\n",
    "\n",
    "train_loader = DataLoader(train_dataset, batch_size=4096, shuffle=True, drop_last=True)\n",
    "valid_loader = DataLoader(valid_dataset, batch_size=4096, shuffle=True, drop_last=True)"
   ]
  },
  {
   "cell_type": "code",
   "execution_count": 17,
   "metadata": {},
   "outputs": [
    {
     "name": "stdout",
     "output_type": "stream",
     "text": [
      "torch.Size([4096, 3, 4, 4]) torch.Size([4096, 1])\n"
     ]
    }
   ],
   "source": [
    "for i in train_loader:\n",
    "    x_try = i[0]\n",
    "    print(i[0].shape, i[1].shape)\n",
    "    break"
   ]
  },
  {
   "cell_type": "code",
   "execution_count": 18,
   "metadata": {},
   "outputs": [],
   "source": [
    "from transformers import AutoImageProcessor, ViTForImageClassification\n",
    "\n",
    "image_processor = AutoImageProcessor.from_pretrained(\"google/vit-base-patch16-224\")\n",
    "ViT_model_class_1000 = ViTForImageClassification.from_pretrained(\"google/vit-base-patch16-224\")"
   ]
  },
  {
   "cell_type": "code",
   "execution_count": 19,
   "metadata": {},
   "outputs": [],
   "source": [
    "class ViTModel(nn.Module):\n",
    "    def __init__(self):\n",
    "        super(ViTModel, self).__init__()\n",
    "        self.ViT_model_class = ViT_model_class_1000\n",
    "        self.linear = nn.Linear(1000, 1)\n",
    "    def forward(self, x):\n",
    "        x = self.ViT_model_class(x)\n",
    "        x = self.linear(x[0])\n",
    "        return x\n",
    "    \n",
    "model = ViTModel().to(device)"
   ]
  },
  {
   "cell_type": "code",
   "execution_count": 20,
   "metadata": {},
   "outputs": [],
   "source": [
    "optimizer = optim.Adam(model.parameters(), lr=0.0001)\n",
    "criterion = nn.BCEWithLogitsLoss(pos_weight=torch.tensor([2.0]).to(device))\n",
    "num_epochs = 300"
   ]
  },
  {
   "cell_type": "code",
   "execution_count": 23,
   "metadata": {},
   "outputs": [
    {
     "ename": "SyntaxError",
     "evalue": "cannot assign to function call (1418485841.py, line 22)",
     "output_type": "error",
     "traceback": [
      "\u001b[0;36m  Cell \u001b[0;32mIn[23], line 22\u001b[0;36m\u001b[0m\n\u001b[0;31m    for (image_transform(x), y) in (train_loader):\u001b[0m\n\u001b[0m         ^\u001b[0m\n\u001b[0;31mSyntaxError\u001b[0m\u001b[0;31m:\u001b[0m cannot assign to function call\n"
     ]
    }
   ],
   "source": [
    "#Training and validation loop \n",
    "train_loss = []\n",
    "valid_loss = []\n",
    "\n",
    "train_accuracy = []\n",
    "valid_accuracy = []\n",
    "\n",
    "t_loss = []\n",
    "v_loss = []\n",
    "\n",
    "t_acc = []\n",
    "v_acc = []\n",
    "\n",
    "for epoch in range(num_epochs):\n",
    "    #Train per batch\n",
    "    train_loss = []\n",
    "    valid_loss = []\n",
    "    train_accuracy = []\n",
    "    valid_accuracy = []\n",
    "\n",
    "    model.train()\n",
    "    for (x, y) in (train_loader):\n",
    "        #Forward pass\n",
    "        y_pred = model(x.to(device))\n",
    "        #compute the loss\n",
    "        l = criterion(y_pred.to(device), y.to(device))\n",
    "        #empty the gradients\n",
    "        optimizer.zero_grad()\n",
    "        #compute the gradient\n",
    "        l.backward()\n",
    "        #update the weights\n",
    "        optimizer.step()\n",
    "        #append each loss per batch\n",
    "        train_loss.append(l.item())\n",
    "        train_accuracy.append(accuracy_score(y.detach().cpu().numpy().round(), y_pred.detach().cpu().numpy().round()))\n",
    "        \n",
    "    \n",
    "\n",
    "    #calculate and plot the validation loss\n",
    "    model.eval()\n",
    "    with torch.no_grad():\n",
    "        for (x,y) in (valid_loader):\n",
    "            y_pred = model(x.to(device))\n",
    "            lv = criterion(y_pred.to(device), y.to(device))\n",
    "            #append the loss per batch\n",
    "            valid_loss.append(lv.item())\n",
    "            #accuracy\n",
    "            valid_accuracy.append(accuracy_score(y.detach().cpu().numpy().round(), y_pred.detach().cpu().numpy().round()))\n",
    "\n",
    "    #append the total loss and accuracy per epoch\n",
    "    t_loss.append(np.mean(train_loss))\n",
    "    v_loss.append(np.mean(valid_loss))\n",
    "    t_acc.append(np.mean(train_accuracy))\n",
    "    v_acc.append(np.mean(valid_accuracy))\n",
    "\n",
    "    print(f'Epoch {epoch+1}, loss = {np.mean(train_loss):.4f} , val_loss = {np.mean(valid_loss):.4f}')\n",
    "    torch.save(model.state_dict(), 'ViT_checkpoint.pth')"
   ]
  },
  {
   "cell_type": "code",
   "execution_count": null,
   "metadata": {},
   "outputs": [],
   "source": [
    "torch.save(model.state_dict(), f'ViT_n{n}.pth')"
   ]
  },
  {
   "cell_type": "code",
   "execution_count": null,
   "metadata": {},
   "outputs": [],
   "source": [
    "def plot(metric, title):\n",
    "    plt.plot(metric)\n",
    "    plt.title(title)\n",
    "    plt.show() "
   ]
  },
  {
   "cell_type": "code",
   "execution_count": null,
   "metadata": {},
   "outputs": [],
   "source": [
    "plot(t_loss, \"Train Loss\")\n",
    "plot(v_loss, \"Val Loss\")\n",
    "\n",
    "plot(t_acc, \"Train Accuracy\")\n",
    "plot(v_acc, \"Val Accuracy\")"
   ]
  }
 ],
 "metadata": {
  "kernelspec": {
   "display_name": "Python 3",
   "language": "python",
   "name": "python3"
  },
  "language_info": {
   "codemirror_mode": {
    "name": "ipython",
    "version": 3
   },
   "file_extension": ".py",
   "mimetype": "text/x-python",
   "name": "python",
   "nbconvert_exporter": "python",
   "pygments_lexer": "ipython3",
   "version": "3.10.11"
  },
  "orig_nbformat": 4,
  "vscode": {
   "interpreter": {
    "hash": "947f030b3e678118fc438144c1e47ca5c23949e6feee86165ca58c1240ce2eba"
   }
  }
 },
 "nbformat": 4,
 "nbformat_minor": 2
}
